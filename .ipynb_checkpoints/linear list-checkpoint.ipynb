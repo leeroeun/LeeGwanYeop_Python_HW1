{
 "cells": [
  {
   "cell_type": "markdown",
   "id": "578908a6",
   "metadata": {},
   "source": [
    "# 선형리스트 "
   ]
  },
  {
   "cell_type": "code",
   "execution_count": 1,
   "id": "0f0629ed",
   "metadata": {},
   "outputs": [],
   "source": [
    "def add_data(friend):\n",
    "    katok.append(None)\n",
    "    kLen=len(katok)\n",
    "    katok[kLen-1]=friend\n",
    "\n",
    "\n",
    "def delete_data(position) :\n",
    "    kLen = len(katok)\n",
    "    for i in range(position, kLen) : \n",
    "        katok[i-1] = katok[i]\n",
    "        katok[i] = None\n",
    "    del(katok[kLen-1])\n",
    "\n",
    "def data_sort():\n",
    "    for i in range(len(katok)-1):\n",
    "      for j in range(i+1, len(katok)):\n",
    "        if katok[i][1] < katok[j][1]:\n",
    "          temp = katok[i]\n",
    "          katok[i] = katok[j]\n",
    "          katok[j] = temp"
   ]
  },
  {
   "cell_type": "code",
   "execution_count": null,
   "id": "41f965f0",
   "metadata": {},
   "outputs": [
    {
     "name": "stdout",
     "output_type": "stream",
     "text": [
      "선택하세요(1: 추가, 2: 삭제, 3:종료)--> 1\n",
      "추가할 데이터-->('다현',200)\n",
      "[('다현', 200)]\n",
      "선택하세요(1: 추가, 2: 삭제, 3:종료)--> 1\n",
      "추가할 데이터-->('정연',150)\n",
      "[('다현', 200), ('정연', 150)]\n",
      "선택하세요(1: 추가, 2: 삭제, 3:종료)--> 1\n",
      "추가할 데이터-->('모모',170)\n",
      "[('다현', 200), ('모모', 170), ('정연', 150)]\n",
      "선택하세요(1: 추가, 2: 삭제, 3:종료)--> 2\n",
      "삭제할 위치-->2\n",
      "[('다현', 200), ('정연', 150)]\n",
      "선택하세요(1: 추가, 2: 삭제, 3:종료)--> 2\n",
      "삭제할 위치-->3\n",
      "삭제할 데이터가 존재하지 않습니다.\n",
      "선택하세요(1: 추가, 2: 삭제, 3:종료)--> 3\n",
      "[('다현', 200), ('정연', 150)]\n"
     ]
    }
   ],
   "source": [
    "katok=[]\n",
    "select=-1\n",
    "\n",
    "    \n",
    "if __name__==\"__main__\":\n",
    "    while (select!=3):\n",
    "        select=input(\"선택하세요(1: 추가, 2: 삭제, 3:종료)--> \")\n",
    "        if select=='1':\n",
    "            data=eval(input(\"추가할 데이터-->\"))\n",
    "            add_data(data)\n",
    "            data_sort()\n",
    "            print(katok)\n",
    "        elif select=='2':\n",
    "            pos=int(input(\"삭제할 위치-->\"))\n",
    "            if pos > len(katok):\n",
    "              print(\"삭제할 데이터가 존재하지 않습니다.\")\n",
    "              continue\n",
    "            delete_data(pos)\n",
    "            print(katok)\n",
    "        elif select=='3':\n",
    "            print(katok)\n",
    "        else:\n",
    "            print(\"1~3 중 하나를 입력하세요\")"
   ]
  },
  {
   "attachments": {
    "%EA%B2%B0%EA%B3%BC.PNG": {
     "image/png": "[encoded data removed]"
    }
   },
   "cell_type": "markdown",
   "id": "12a9d51c",
   "metadata": {},
   "source": [
    "![%EA%B2%B0%EA%B3%BC.PNG](attachment:%EA%B2%B0%EA%B3%BC.PNG)"
   ]
  },
  {
   "cell_type": "code",
   "execution_count": null,
   "id": "41bddbe6",
   "metadata": {},
   "outputs": [],
   "source": []
  }
 ],
 "metadata": {
  "kernelspec": {
   "display_name": "Python 3 (ipykernel)",
   "language": "python",
   "name": "python3"
  },
  "language_info": {
   "codemirror_mode": {
    "name": "ipython",
    "version": 3
   },
   "file_extension": ".py",
   "mimetype": "text/x-python",
   "name": "python",
   "nbconvert_exporter": "python",
   "pygments_lexer": "ipython3",
   "version": "3.9.12"
  }
 },
 "nbformat": 4,
 "nbformat_minor": 5
}
